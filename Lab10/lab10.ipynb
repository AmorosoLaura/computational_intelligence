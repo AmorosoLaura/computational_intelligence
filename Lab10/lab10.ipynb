{
 "cells": [
  {
   "cell_type": "markdown",
   "metadata": {},
   "source": [
    "Copyright **`(c)`** Laura Amoroso\n"
   ]
  },
  {
   "cell_type": "markdown",
   "metadata": {},
   "source": [
    "# LAB10\n",
    "\n",
    "Use reinforcement learning to devise a tic-tac-toe player.\n",
    "\n",
    "### Deadlines:\n",
    "\n",
    "* Submission: 25/12 ([CET](https://www.timeanddate.com/time/zones/cet))\n",
    "* Reviews: 06/01 ([CET](https://en.wikipedia.org/wiki/Sol_Invictus))\n",
    "\n",
    "Notes:\n",
    "\n",
    "* Reviews will be assigned  on Monday, December 4\n",
    "* You need to commit in order to be selected as a reviewer (ie. better to commit an empty work than not to commit)"
   ]
  },
  {
   "cell_type": "markdown",
   "metadata": {},
   "source": [
    "By using the \"Magic Board\" to represent the problem the goal becomes picking 3 numbers whose sum is 15."
   ]
  },
  {
   "cell_type": "code",
   "execution_count": 111,
   "metadata": {},
   "outputs": [],
   "source": [
    "from itertools import combinations\n",
    "from collections import namedtuple, defaultdict\n",
    "from random import choice, random, randint\n",
    "from copy import deepcopy\n",
    "from tqdm.auto import tqdm\n",
    "import numpy as np"
   ]
  },
  {
   "cell_type": "markdown",
   "metadata": {},
   "source": [
    "The state is represented by a tuple that contains the positions taken by the 2 players"
   ]
  },
  {
   "cell_type": "code",
   "execution_count": 112,
   "metadata": {},
   "outputs": [],
   "source": [
    "State= namedtuple('State',['x','o'])"
   ]
  },
  {
   "cell_type": "code",
   "execution_count": 113,
   "metadata": {},
   "outputs": [],
   "source": [
    "MAGIC=[2,7,6,\n",
    "       9,5,1,\n",
    "       4,3,8]"
   ]
  },
  {
   "cell_type": "code",
   "execution_count": 114,
   "metadata": {},
   "outputs": [],
   "source": [
    "def win(elements):\n",
    "    \"\"\" Checks if elements is winning\"\"\"\n",
    "    return any(sum(c)==15 for c in combinations(elements,3))\n",
    "\n",
    "def state_value(pos:State):\n",
    "    \"\"\"Evaluate position: +1 first player wins\"\"\"\n",
    "    if win(pos.x):\n",
    "        return 1\n",
    "    elif win(pos.o):\n",
    "        return -1\n",
    "    else:\n",
    "        return 0"
   ]
  },
  {
   "cell_type": "code",
   "execution_count": 115,
   "metadata": {},
   "outputs": [
    {
     "name": "stdout",
     "output_type": "stream",
     "text": [
      "\n",
      "\n"
     ]
    }
   ],
   "source": [
    "def print_board(pos):\n",
    "    \"\"\" Nicely prints the board\"\"\"\n",
    "    for r in range(3):\n",
    "        for c in range(3):\n",
    "            index=r*3+c\n",
    "            if MAGIC[index] in pos.x:\n",
    "                print('X', end='')\n",
    "            elif MAGIC[index] in pos.o:\n",
    "                print('O', end='')\n",
    "            else:\n",
    "                print('-', end='')\n",
    "        print(\"\\n\")\n",
    "\n",
    "print(\"\\n\")"
   ]
  },
  {
   "cell_type": "markdown",
   "metadata": {},
   "source": [
    "Here a random player, that chooses his moves randomly among the available ones, is defined to play aganist my trained agent."
   ]
  },
  {
   "cell_type": "code",
   "execution_count": 116,
   "metadata": {},
   "outputs": [],
   "source": [
    "class RandomPlayer:\n",
    "    def __init__(self, symbol) -> None:\n",
    "        self._symbol=symbol\n",
    "        \n",
    "    @property\n",
    "    def symbol(self)-> int:\n",
    "        return self._symbol\n",
    "    \n",
    "    def move(self,available_moves, state=None):\n",
    "        return choice(list(available_moves))"
   ]
  },
  {
   "cell_type": "markdown",
   "metadata": {},
   "source": [
    "# Q-LEARNING"
   ]
  },
  {
   "attachments": {
    "image-2.png": {
     "image/png": "[encoded data removed]"
    },
    "image.png": {
     "image/png": "[encoded data removed]"
    }
   },
   "cell_type": "markdown",
   "metadata": {},
   "source": [
    "I defined an agent that is trained with the Q Learning algorithm. The q table contains the states and the possible moves associated with a value indicating the most promising move. This is represented by an annidated dictionary whose keys are the states and the value is another dictionary that has as keys the actions and as values their qvalues.\n",
    "\n",
    "At each move the agent receives a reward of 0.1 if the action is among the available ones, -5 if it is not, and at the end of the game +1 for a victory, -1 for a lose and 0 for a tie. The formula I used for updating the table is:\n",
    "\n",
    "![image.png](attachment:image.png)\n",
    "\n",
    "\n",
    "where α is the learning rate, r is the reward obatained by making the action a in the state s, γ is the discount rate  and ![image-2.png](attachment:image-2.png) is the maximum value of the next state.\n",
    "\n",
    "α and γ are tuned during the episodes. WIth a certain probability, the exploration rate, the agent does random moves to explore new states. This value is high during the first 1000 episodes and then decreases as suggested in one of the linked papers.  "
   ]
  },
  {
   "cell_type": "code",
   "execution_count": 117,
   "metadata": {},
   "outputs": [],
   "source": [
    "\n",
    "class QLearningAgent:\n",
    "    def __init__(self, symbol):\n",
    "        self.q_table = {}\n",
    "        self.symbol=symbol\n",
    "        self._winning_games=0\n",
    "        self._drawn_games=0\n",
    "        self.exploration_rate=0.3\n",
    "        self.alpha=0.7\n",
    "        self.gamma=0.9\n",
    "        self.is_train=True\n",
    "\n",
    "\n",
    "    def move(self, available_moves, state)-> int:\n",
    "        \"\"\"    \n",
    "        if self.exploration_rate>0.01:\n",
    "            self.exploration_rate*=0.99\n",
    "        \"\"\"\n",
    "        if self.alpha>0.1:\n",
    "            self.alpha*=0.99\n",
    "\n",
    "        if self.gamma<0.99:\n",
    "            self.gamma*=1.01\n",
    "\n",
    "        state_key = (frozenset(state.x), frozenset(state.o))\n",
    "\n",
    "        if random() < self.exploration_rate:\n",
    "          \n",
    "            action = choice(list(available_moves))\n",
    "        else:\n",
    "\n",
    "            if state_key not in self.q_table:\n",
    "                self.q_table[state_key] = dict.fromkeys(range(1,10), 0)\n",
    "                \n",
    "            action = max(self.q_table[state_key], key=self.q_table[state_key].get)\n",
    "\n",
    "        if self.is_train:\n",
    "            self.update_q_table(action, available_moves, state)\n",
    "       \n",
    "        if action not in available_moves:\n",
    "            # if the move wasn't available choose a random one\n",
    "            action=choice(list(available_moves))\n",
    "\n",
    "            if state_key not in self.q_table:\n",
    "                self.q_table[state_key] = dict.fromkeys([action], 0)\n",
    "            return action\n",
    "            \n",
    "        return action\n",
    "\n",
    "    def add_winning(self):\n",
    "        self._winning_games+=1\n",
    "        \n",
    "    def add_drawn(self):\n",
    "        self._drawn_games+=1\n",
    "\n",
    "    def update_q_table(self, action, available_moves, state, reward=None):\n",
    "        #print(\"updating\")\n",
    "        state_key=(frozenset(state.x), frozenset(state.o))\n",
    "        if reward is None:\n",
    "\n",
    "            if action not in available_moves:\n",
    "                reward=-5\n",
    "                \n",
    "            else:\n",
    "                reward=0.1\n",
    "                \n",
    "        if state_key not in self.q_table:\n",
    "            self.q_table[state_key] = dict.fromkeys([action], 0)\n",
    "\n",
    "        new_state = deepcopy(state)\n",
    "        new_state.x.add(action)\n",
    "        next_state_key = (frozenset(new_state.x), frozenset(new_state.o))\n",
    "\n",
    "        if next_state_key not in self.q_table:\n",
    "            self.q_table[next_state_key] = dict.fromkeys(range(1,10), 0)\n",
    "\n",
    "        self.q_table[state_key][action] = (1 - self.alpha) * self.q_table[state_key].get(action, 0) + self.alpha * (reward + self.gamma * (max(self.q_table[next_state_key].values(), default=0)))\n"
   ]
  },
  {
   "cell_type": "code",
   "execution_count": 118,
   "metadata": {},
   "outputs": [],
   "source": [
    "\n",
    "def game(p1,p2, index):\n",
    "    \n",
    "    trajectory=list()\n",
    "    state=State(set(), set())\n",
    "    available=set(range(1,9+1))\n",
    "    \n",
    "    players=[p1,p2]\n",
    "\n",
    "    while True:\n",
    "    \n",
    "        current_player=players[index]\n",
    "\n",
    "        move=current_player.move(list(available),state)\n",
    "        trajectory.append((deepcopy(state), move))\n",
    "        available.remove(move)\n",
    "        \n",
    "        if(current_player.symbol == -1):\n",
    "            state.o.add(move)\n",
    "            if(win(state.o)) or not available:\n",
    "                break\n",
    "        \n",
    "        else:\n",
    "            state.x.add(move)\n",
    "            if(win(state.x)) or not available:\n",
    "                break\n",
    "        last_index=index\n",
    "        index=1-index\n",
    "\n",
    "    # i compute the final reward\n",
    "        \n",
    "    final_reward=state_value(state)\n",
    "\n",
    "    return trajectory, final_reward\n",
    "    "
   ]
  },
  {
   "cell_type": "markdown",
   "metadata": {},
   "source": [
    "The agent always plays with the X symbol and I train it by doing 100_000 iterations in which he starts the game and other 100_000 in which he plays as second."
   ]
  },
  {
   "cell_type": "code",
   "execution_count": 119,
   "metadata": {},
   "outputs": [],
   "source": [
    "#o\n",
    "p1=RandomPlayer(-1)\n",
    "#x\n",
    "p2=QLearningAgent(1)"
   ]
  },
  {
   "cell_type": "code",
   "execution_count": 120,
   "metadata": {},
   "outputs": [
    {
     "name": "stderr",
     "output_type": "stream",
     "text": [
      "  1%|          | 878/100000 [00:00<01:41, 975.19it/s] "
     ]
    },
    {
     "name": "stderr",
     "output_type": "stream",
     "text": [
      "100%|██████████| 100000/100000 [01:14<00:00, 1339.14it/s]\n"
     ]
    },
    {
     "name": "stdout",
     "output_type": "stream",
     "text": [
      "Q AGENT STARTS\n",
      "Winning percentage of the agent  79.85900000000001\n",
      "Drawn percentage of the agent  16.006\n"
     ]
    },
    {
     "name": "stderr",
     "output_type": "stream",
     "text": [
      "100%|██████████| 100000/100000 [01:09<00:00, 1445.69it/s]"
     ]
    },
    {
     "name": "stdout",
     "output_type": "stream",
     "text": [
      "RANDOM STARTS\n",
      "Winning percentage of the agent  52.054\n",
      "Drawn percentage of the agent  32.072\n"
     ]
    },
    {
     "name": "stderr",
     "output_type": "stream",
     "text": [
      "\n"
     ]
    }
   ],
   "source": [
    "def train(p1,p2, index):\n",
    "\n",
    "\n",
    "      num_iterations=100_000\n",
    "      p2._winning_games=0\n",
    "      p2._drawn_games=0\n",
    "\n",
    "      for episodes in tqdm(range(num_iterations)):\n",
    "\n",
    "            # I used the update of the exploration rate suggested in the paper:\n",
    "            # https://www.researchgate.net/publication/369096697_Reinforcement_Learning_Playing_Tic-Tac-Toe\n",
    "            \n",
    "            if episodes>1000 and p2.exploration_rate>0.01:\n",
    "                  p2.exploration_rate=((1-p2.exploration_rate)*10)/episodes\n",
    "\n",
    "                  \n",
    "            trajectory, final_reward=game(p1,p2,index)\n",
    "\n",
    "            if final_reward ==0:\n",
    "                  p2.add_drawn()\n",
    "            elif final_reward==1:\n",
    "                  p2.add_winning()\n",
    "\n",
    "            if final_reward == -1:\n",
    "            \n",
    "                  s=trajectory[-2][0]\n",
    "                  a=trajectory[-2][1]\n",
    "\n",
    "            else:  \n",
    "                  s=trajectory[-1][0]\n",
    "                  a=trajectory[-1][1]   \n",
    "                  \n",
    "\n",
    "            p2.update_q_table(a,(),s,final_reward)\n",
    "            \n",
    "\n",
    "      if index==0:\n",
    "            print(\"RANDOM STARTS\")\n",
    "      else:\n",
    "            print(\"Q AGENT STARTS\")\n",
    "      print(\"Winning percentage of the agent \",p2._winning_games/num_iterations*100)\n",
    "      print(\"Drawn percentage of the agent \",p2._drawn_games/num_iterations*100)\n",
    "\n",
    "train(p1,p2,1)\n",
    "train(p1,p2,0)"
   ]
  },
  {
   "cell_type": "code",
   "execution_count": 121,
   "metadata": {},
   "outputs": [
    {
     "name": "stderr",
     "output_type": "stream",
     "text": [
      " 30%|███       | 1523/5000 [00:00<00:00, 15086.60it/s]"
     ]
    },
    {
     "name": "stderr",
     "output_type": "stream",
     "text": [
      "100%|██████████| 5000/5000 [00:00<00:00, 13551.92it/s]\n"
     ]
    },
    {
     "name": "stdout",
     "output_type": "stream",
     "text": [
      "RANDOM STARTS\n",
      "winning or tie 83.89999999999999 %\n",
      "losing  16.1 %\n"
     ]
    },
    {
     "name": "stderr",
     "output_type": "stream",
     "text": [
      "100%|██████████| 5000/5000 [00:00<00:00, 14367.77it/s]"
     ]
    },
    {
     "name": "stdout",
     "output_type": "stream",
     "text": [
      "Q AGENT STARTS\n",
      "winning or tie 97.2 %\n",
      "losing  2.8000000000000003 %\n"
     ]
    },
    {
     "name": "stderr",
     "output_type": "stream",
     "text": [
      "\n"
     ]
    }
   ],
   "source": [
    "def test(p1,p2, index):\n",
    "    \n",
    "    global count_winning\n",
    "    global count_losing\n",
    "    global count_tie\n",
    "    \n",
    "    state=State(set(), set())\n",
    "    available=set(range(1,9+1))\n",
    "    \n",
    "    players=[p1,p2]\n",
    "    \n",
    "\n",
    "    while True:\n",
    "    \n",
    "        current_player=players[index]\n",
    "        move=current_player.move(list(available),state)\n",
    "      \n",
    "        if(current_player.symbol == -1):\n",
    "            state.o.add(move)\n",
    "            available.remove(move) \n",
    "            if(win(state.o)) or not available:\n",
    "                if (win(state.o)):\n",
    "                    count_losing+=1\n",
    "                else: \n",
    "                    count_tie+=1\n",
    "                break\n",
    "        \n",
    "        else:\n",
    "            state.x.add(move)\n",
    "            available.remove(move) \n",
    "            if(win(state.x)) or not available:\n",
    "                if(win(state.x)):\n",
    "                    count_winning+=1\n",
    "                else:\n",
    "                    count_tie+=1\n",
    "\n",
    "                break\n",
    "                \n",
    "        index=1-index\n",
    "    return\n",
    "\n",
    "\n",
    "count_winning=0\n",
    "count_losing=0\n",
    "count_tie=0\n",
    "num_iterations=5000\n",
    "\n",
    "# when not in train mode the Q table is not updated\n",
    "p2.is_train=False\n",
    "\n",
    "\n",
    "for _ in tqdm(range(num_iterations)):\n",
    "    test(p1,p2,0)\n",
    "\n",
    "print(\"RANDOM STARTS\")\n",
    "    \n",
    "print(\"winning or tie\", (count_winning+count_tie)/num_iterations*100,\"%\")\n",
    "print(\"losing \", count_losing/num_iterations*100,\"%\")\n",
    "\n",
    "\n",
    "count_winning=0\n",
    "count_losing=0\n",
    "count_tie=0\n",
    "\n",
    "\n",
    "for _ in tqdm(range(num_iterations)):\n",
    "    test(p1,p2,1)\n",
    "    \n",
    "print(\"Q AGENT STARTS\")\n",
    "\n",
    "print(\"winning or tie\", (count_winning+count_tie)/num_iterations*100,\"%\")\n",
    "print(\"losing \", count_losing/num_iterations*100,\"%\")\n",
    "\n"
   ]
  },
  {
   "cell_type": "code",
   "execution_count": null,
   "metadata": {},
   "outputs": [],
   "source": [
    "\"\"\" \n",
    "for c,v in p2.q_table.items():\n",
    "    print(c,v) \"\"\""
   ]
  },
  {
   "cell_type": "markdown",
   "metadata": {},
   "source": [
    "# MONTECARLO "
   ]
  },
  {
   "attachments": {
    "image.png": {
     "image/png": "[encoded data removed]"
    }
   },
   "cell_type": "markdown",
   "metadata": {},
   "source": [
    "For the montecarlo agent I chose the same design but I propagate the reward only at the end of the game to all the state visited during the game. This is the formula I use for updating\n",
    "\n",
    "![image.png](attachment:image.png)\n",
    "\n",
    "where α is the learning rate and G is the final reward obtained at the end of the game.\n",
    "\n",
    "I tried to use the sum of the move rewards obtained during the whole game instead of just the final one, but it gave me worse performances. Here I use a reward of 0.1 for the acceptable moves and -0.1 for the unacceptable ones. I also use a different technique to update the exploration rate, because the previous one does not work well since I do less iterations. "
   ]
  },
  {
   "cell_type": "code",
   "execution_count": 123,
   "metadata": {},
   "outputs": [],
   "source": [
    "\n",
    "class MontecarloAgent:\n",
    "    def __init__(self, symbol):\n",
    "        self.q_table = {}\n",
    "        self.symbol=symbol\n",
    "        self._winning_games=0\n",
    "        self._drawn_games=0\n",
    "        self.exploration_rate=0.1\n",
    "        self.rewards=[]\n",
    "        self.gamma=0.9\n",
    "        self.is_train=True\n",
    "\n",
    "\n",
    "    def move(self, available_moves, state)-> int:\n",
    "        \n",
    "        if self.exploration_rate>0.01:\n",
    "            self.exploration_rate*=0.99\n",
    "        \n",
    "\n",
    "        if self.gamma<0.99:\n",
    "            self.gamma*=1.01\n",
    "\n",
    "        state_key = (frozenset(state.x), frozenset(state.o))\n",
    "\n",
    "        if random() < self.exploration_rate:\n",
    "            # sometimes make random moves\n",
    "            action = choice(list(available_moves))\n",
    "        else:\n",
    "            if state_key not in self.q_table:\n",
    "                self.q_table[state_key] = dict.fromkeys(range(1,10), 0)\n",
    "            \n",
    "            #choose the action based on the q table   \n",
    "            action = max(self.q_table[state_key], key=self.q_table[state_key].get)\n",
    "\n",
    "\n",
    "        if action not in available_moves:\n",
    "            reward=-0.1\n",
    "            \n",
    "        else:\n",
    "            reward=0.1\n",
    "            \n",
    "        self.rewards.append(reward)\n",
    "        if action not in available_moves:\n",
    "            action=choice(list(available_moves))\n",
    "            \n",
    "            if state_key not in self.q_table:\n",
    "                self.q_table[state_key] = dict.fromkeys([action], 0)\n",
    "            return action\n",
    "            \n",
    "        return action\n",
    "\n",
    "    def add_winning(self):\n",
    "        self._winning_games+=1\n",
    "        \n",
    "    def add_drawn(self):\n",
    "        self._drawn_games+=1\n",
    "\n"
   ]
  },
  {
   "cell_type": "code",
   "execution_count": 125,
   "metadata": {},
   "outputs": [
    {
     "name": "stdout",
     "output_type": "stream",
     "text": [
      "--------------TRAIN----------------\n",
      "RANDOM STARTS\n"
     ]
    },
    {
     "name": "stderr",
     "output_type": "stream",
     "text": [
      "  0%|          | 0/100000 [00:00<?, ?it/s]"
     ]
    },
    {
     "name": "stderr",
     "output_type": "stream",
     "text": [
      "100%|██████████| 100000/100000 [00:43<00:00, 2320.87it/s]\n"
     ]
    },
    {
     "name": "stdout",
     "output_type": "stream",
     "text": [
      "Winning percentage of the agent  78.682\n",
      "Tie percentage  7.154000000000001\n",
      "win and ties 85.836\n",
      "MONTECARLO AGENT STARTS\n"
     ]
    },
    {
     "name": "stderr",
     "output_type": "stream",
     "text": [
      "100%|██████████| 100000/100000 [00:47<00:00, 2087.73it/s]\n"
     ]
    },
    {
     "name": "stdout",
     "output_type": "stream",
     "text": [
      "Winning percentage of the agent  87.258\n",
      "Tie percentage  6.031000000000001\n",
      "win and ties 93.289\n",
      "--------------TEST----------------\n"
     ]
    },
    {
     "name": "stderr",
     "output_type": "stream",
     "text": [
      "100%|██████████| 10000/10000 [00:00<00:00, 15849.05it/s]\n"
     ]
    },
    {
     "name": "stdout",
     "output_type": "stream",
     "text": [
      "RANDOM STARTS\n",
      "winning or tie 86.63 %\n",
      "losing  13.370000000000001 %\n"
     ]
    },
    {
     "name": "stderr",
     "output_type": "stream",
     "text": [
      "100%|██████████| 10000/10000 [00:00<00:00, 15624.93it/s]"
     ]
    },
    {
     "name": "stdout",
     "output_type": "stream",
     "text": [
      "MONTECARLO AGENT STARTS\n",
      "winning or tie 93.46 %\n",
      "losing  6.54 %\n"
     ]
    },
    {
     "name": "stderr",
     "output_type": "stream",
     "text": [
      "\n"
     ]
    }
   ],
   "source": [
    "def train_montecarlo(p1,p2, index):\n",
    "\n",
    "    num_iterations=100_000\n",
    "    p2._winning_games=0\n",
    "    p2._drawn_games=0\n",
    "\n",
    "    for episodes in tqdm(range(num_iterations)):\n",
    "\n",
    "        #p2.rewards=[]\n",
    "        trajectory, final_reward=game(p1,p2,index)\n",
    "\n",
    "        if final_reward ==0:\n",
    "                p2.add_drawn()\n",
    "        elif final_reward==1:\n",
    "                p2.add_winning()\n",
    "\n",
    "        for state,action in trajectory:\n",
    "            if (frozenset(state.x), frozenset(state.o)) in p2.q_table:\n",
    "                p2.q_table[(frozenset(state.x), frozenset(state.o))][action]+=0.001 * (final_reward -  p2.q_table[(frozenset(state.x), frozenset(state.o))][action])\n",
    "                \n",
    "    print(\"Winning percentage of the agent \",p2._winning_games/num_iterations*100) \n",
    "    print(\"Tie percentage \",p2._drawn_games/num_iterations*100 )\n",
    "    print(\"win and ties\",(p2._winning_games+p2._drawn_games)/num_iterations*100 )\n",
    "\n",
    "            \n",
    "def test_montecarlo(p1,p2, index):\n",
    "    \n",
    "    global count_winning\n",
    "    global count_losing\n",
    "    global count_tie\n",
    "\n",
    "    state=State(set(), set())\n",
    "    available=set(range(1,9+1))\n",
    "    \n",
    "    players=[p1,p2]\n",
    "    \n",
    "\n",
    "    while True:\n",
    "    \n",
    "        current_player=players[index]\n",
    "\n",
    "        move=current_player.move(list(available),state)\n",
    "    \n",
    "        if(current_player.symbol == -1):\n",
    "            state.o.add(move)\n",
    "            available.remove(move) \n",
    "            if(win(state.o)) or not available:\n",
    "                if (win(state.o)):\n",
    "                    count_losing+=1\n",
    "                else: \n",
    "                    count_tie+=1\n",
    "                break\n",
    "        \n",
    "        else:\n",
    "            state.x.add(move)\n",
    "            available.remove(move) \n",
    "            if(win(state.x)) or not available:\n",
    "                if(win(state.x)):\n",
    "                    count_winning+=1\n",
    "                else:\n",
    "                    count_tie+=1\n",
    "\n",
    "                break\n",
    "                \n",
    "        index=1-index\n",
    "    return\n",
    "\n",
    "\n",
    "#o\n",
    "p1=RandomPlayer(-1)\n",
    "#x\n",
    "p2=MontecarloAgent(1)\n",
    "\n",
    "print(\"--------------TRAIN----------------\")\n",
    "\n",
    "print(\"RANDOM STARTS\")\n",
    "train_montecarlo(p1,p2,0)\n",
    "print(\"MONTECARLO AGENT STARTS\")\n",
    "train_montecarlo(p1,p2,1)\n",
    "\n",
    "\n",
    "print(\"--------------TEST----------------\")\n",
    "count_winning=0\n",
    "count_losing=0\n",
    "count_tie=0\n",
    "\n",
    "num_iterations=10000\n",
    "for _ in tqdm(range(num_iterations)):\n",
    "    test_montecarlo(p1,p2,0)\n",
    "\n",
    "print(\"RANDOM STARTS\")\n",
    "    \n",
    "print(\"winning or tie\", (count_winning+count_tie)/num_iterations*100,\"%\")\n",
    "print(\"losing \", count_losing/num_iterations*100,\"%\")\n",
    "\n",
    "\n",
    "count_winning=0\n",
    "count_losing=0\n",
    "count_tie=0\n",
    "\n",
    "\n",
    "for _ in tqdm(range(num_iterations)):\n",
    "    test_montecarlo(p1,p2,1)\n",
    "\n",
    "print(\"MONTECARLO AGENT STARTS\")\n",
    "\n",
    "print(\"winning or tie\", (count_winning+count_tie)/num_iterations*100,\"%\")\n",
    "print(\"losing \", count_losing/num_iterations*100,\"%\")\n",
    "\n",
    "\n"
   ]
  }
 ],
 "metadata": {
  "kernelspec": {
   "display_name": "ci-fLJ3OwGs-py3.12",
   "language": "python",
   "name": "python3"
  },
  "language_info": {
   "codemirror_mode": {
    "name": "ipython",
    "version": 3
   },
   "file_extension": ".py",
   "mimetype": "text/x-python",
   "name": "python",
   "nbconvert_exporter": "python",
   "pygments_lexer": "ipython3",
   "version": "3.12.0"
  }
 },
 "nbformat": 4,
 "nbformat_minor": 2
}
