{
 "cells": [
  {
   "cell_type": "markdown",
   "id": "185f9931-b384-4fdc-a5b2-eea785428bb8",
   "metadata": {},
   "source": [
    "Copyright **`(c)`** 2023 Laura Amoroso and Arturo Adelfio"
   ]
  },
  {
   "cell_type": "markdown",
   "id": "a22504b2",
   "metadata": {},
   "source": [
    "This is the implementation of some of the Single State Methods applied to the Set Covering problem"
   ]
  },
  {
   "cell_type": "code",
   "execution_count": 115,
   "id": "3ffe7245-e849-41d0-9698-5f0e0b83fee9",
   "metadata": {},
   "outputs": [],
   "source": [
    "from itertools import product\n",
    "from random import random, randint, choice, seed, choice\n",
    "import numpy as np\n",
    "from scipy import sparse\n",
    "from functools import reduce\n",
    "from collections import namedtuple\n",
    "import math\n",
    "from copy import copy"
   ]
  },
  {
   "cell_type": "code",
   "execution_count": 116,
   "id": "6f03bd67-78a0-4d72-95b7-77a918727b91",
   "metadata": {},
   "outputs": [],
   "source": [
    "def make_set_covering_problem(num_points, num_sets, density):\n",
    "    \"\"\"Returns a sparse array where rows are sets and columns are the covered items\"\"\"\n",
    "    seed(num_points*2654435761+num_sets+density)\n",
    "    sets = sparse.lil_array((num_sets, num_points), dtype=bool)\n",
    "    for s, p in product(range(num_sets), range(num_points)):\n",
    "        if random() < density:\n",
    "            sets[s, p] = True\n",
    "    for p in range(num_points):\n",
    "        sets[randint(0, num_sets-1), p] = True\n",
    "    return sets"
   ]
  },
  {
   "cell_type": "markdown",
   "id": "82b0be37-21d9-492d-9a1d-cf0cdf0ddd76",
   "metadata": {},
   "source": [
    "# Halloween Challenge\n",
    "\n",
    "Find the best solution with the fewest calls to the fitness functions for:\n",
    "\n",
    "* `num_points = [100, 1_000, 5_000]`\n",
    "* `num_sets = num_points`\n",
    "* `density = [.3, .7]` "
   ]
  },
  {
   "cell_type": "code",
   "execution_count": 126,
   "id": "221ffdba-5d3d-48cc-bd08-45ccc9366ea6",
   "metadata": {},
   "outputs": [
    {
     "name": "stdout",
     "output_type": "stream",
     "text": [
      "Element at row=42 and column=42: True\n"
     ]
    }
   ],
   "source": [
    "num_points=100\n",
    "num_sets=100\n",
    "x = make_set_covering_problem(num_points, num_sets, .3)\n",
    "counter=0\n",
    "print(\"Element at row=42 and column=42:\", x[42,42])\n",
    "\n"
   ]
  },
  {
   "cell_type": "code",
   "execution_count": 118,
   "id": "ed3df759",
   "metadata": {},
   "outputs": [],
   "source": [
    "\n",
    "def fitness(state):\n",
    "    global counter\n",
    "    counter+=1\n",
    "    cost = sum(state)\n",
    "    l=np.empty((num_sets,num_points),dtype=bool)\n",
    "    not_taken=np.empty((num_sets,num_points),dtype=bool)\n",
    "\n",
    "\n",
    "    for j in range(num_sets):\n",
    "        for i in range(num_points):\n",
    "            if(state[j]):\n",
    "                l[j,i]=x[j,i]\n",
    "            else:\n",
    "                not_taken[j,i]=x[j,i]\n",
    "\n",
    "    \n",
    "    already_covered = reduce(\n",
    "        np.logical_or,\n",
    "        [l[i] for i in range(num_sets) if state[i]],\n",
    "        np.array([False for _ in range(num_sets)]),\n",
    "    )\n",
    "   \n",
    "    valid = np.sum(\n",
    "        already_covered\n",
    "    )\n",
    "    \n",
    "    \n",
    "    #new_metric=max(sum(np.logical_not(np.logical_xor(not_taken[i],already_covered ))) for i in range(num_sets) if not state[i])\n",
    "    #print(valid,-cost)\n",
    "    return valid, -cost if valid else 0\n",
    "\n",
    "used_indeces=[]\n",
    "def tweak(state):\n",
    "    global used_indeces\n",
    "    new_state = copy(state)\n",
    "\n",
    "    index = randint(0, num_sets - 1)\n",
    "\n",
    "    new_state[index] = not new_state[index]\n",
    "    \n",
    "    return new_state"
   ]
  },
  {
   "cell_type": "markdown",
   "id": "1e17995b",
   "metadata": {},
   "source": [
    "We implemented a new tweak function that add the not yet taken set with the highest number of true elements and removes the one with the highest number of false ones"
   ]
  },
  {
   "cell_type": "code",
   "execution_count": 119,
   "id": "57e0eb14",
   "metadata": {},
   "outputs": [],
   "source": [
    "def new_tweak(state):\n",
    "    new_state = copy(state)\n",
    "\n",
    "    taken=[]\n",
    "    not_taken=[]\n",
    "    covered=np.empty((num_sets,num_points),dtype=bool)\n",
    "    uncovered=np.empty((num_sets,num_points),dtype=bool)\n",
    "\n",
    "    for j in range(num_sets):\n",
    "        for i in range(num_points):\n",
    "            if(state[j]):\n",
    "                taken.append(j)\n",
    "                covered[j,i]=x[j,i]\n",
    "            else:\n",
    "                not_taken.append(j)\n",
    "                uncovered[j,i]=x[j,i]\n",
    "    \n",
    "\n",
    "    index=choice(not_taken)\n",
    "\n",
    "    new_state[index] = True\n",
    "    for i in range(num_points):\n",
    "        covered[index,i]=x[index,i]\n",
    "\n",
    "    sum=0\n",
    "    current_max=0\n",
    "    current_max_index=0\n",
    "    #I removed the set with the highest number of false elements\n",
    "    for j in range(num_sets):\n",
    "        for i in range(num_points):\n",
    "            if covered[j,i]==False:\n",
    "                sum+=1\n",
    "        if sum>current_max:\n",
    "            current_max=sum\n",
    "            current_max_index=j\n",
    "    new_state[current_max_index] = False\n",
    "\n",
    "    return new_state\n"
   ]
  },
  {
   "cell_type": "markdown",
   "id": "64f3456c",
   "metadata": {},
   "source": [
    "HILL CLIMBING"
   ]
  },
  {
   "cell_type": "code",
   "execution_count": 120,
   "id": "6492337b-8429-472d-9c3e-c79c5b46da54",
   "metadata": {},
   "outputs": [
    {
     "name": "stdout",
     "output_type": "stream",
     "text": [
      "Solved in 38 steps\n",
      "final solution (1000, -16)\n"
     ]
    }
   ],
   "source": [
    "def hill_climbing():\n",
    "    global counter\n",
    "    counter=0\n",
    "    current_state = [choice([False, False, False, False, False, False]) for _ in range(num_sets)]\n",
    "    ended=False\n",
    "    is_better=True\n",
    "    not_improving=0\n",
    "    while (not ended) or not_improving>100:\n",
    "        new_state = new_tweak(current_state)\n",
    "\n",
    "        new_f=fitness(new_state)\n",
    "        \n",
    "        new_covered_points=new_f[0]\n",
    "\n",
    "        if new_covered_points==num_points:\n",
    "            ended=True\n",
    "\n",
    "        is_better=new_f>fitness(current_state)\n",
    "\n",
    "        if is_better:\n",
    "            not_improving=not_improving-1\n",
    "            current_state = new_state\n",
    "        else:\n",
    "            not_improving+=1\n",
    "    print( f\"Solved in {counter:,} steps\")\n",
    "    print(\"final solution\", fitness(current_state))\n",
    "\n",
    "hill_climbing()"
   ]
  },
  {
   "cell_type": "markdown",
   "id": "871d695d",
   "metadata": {},
   "source": [
    "ITERATED LOCAL SEARCH"
   ]
  },
  {
   "cell_type": "code",
   "execution_count": 121,
   "id": "172093f5",
   "metadata": {},
   "outputs": [],
   "source": [
    "def hill_climbing_ils(current_state): \n",
    "    \n",
    "    ended=False\n",
    "    is_better=True\n",
    "    not_improving=0\n",
    "\n",
    "    while (not ended) or not_improving>100:\n",
    "       \n",
    "        new_state = new_tweak(current_state)\n",
    "\n",
    "        new_f=fitness(new_state)\n",
    "        \n",
    "        new_covered_points=new_f[0]\n",
    "\n",
    "        if new_covered_points==num_points:\n",
    "            ended=True\n",
    "\n",
    "        is_better=new_f>fitness(current_state)\n",
    "\n",
    "        if is_better:\n",
    "            not_improving=not_improving-1\n",
    "            current_state = new_state\n",
    "        else:\n",
    "            not_improving=not_improving+1\n",
    "    \n",
    "    return current_state\n"
   ]
  },
  {
   "cell_type": "code",
   "execution_count": 122,
   "id": "9cbad8b8",
   "metadata": {},
   "outputs": [
    {
     "name": "stdout",
     "output_type": "stream",
     "text": [
      "0\n",
      "(1000, -20)\n",
      "1\n",
      "(1000, -20)\n",
      "2\n",
      "(1000, -20)\n",
      "3\n",
      "(1000, -20)\n",
      "4\n",
      "(1000, -20)\n",
      "Solved in 75 steps\n",
      "final solution (1000, -20)\n"
     ]
    }
   ],
   "source": [
    "def iterated_local_search():\n",
    "    global counter\n",
    "    counter=0\n",
    "    current_state = [choice([False, False, False, False, False, False]) for _ in range(num_sets)]\n",
    "    best_solution = current_state\n",
    "   \n",
    "    \n",
    "    for i in range(5):\n",
    "        print(i)\n",
    "        current_solution = hill_climbing_ils(tweak(best_solution))\n",
    "    \n",
    "        if  fitness(current_solution) > fitness(best_solution):\n",
    "            best_solution = current_solution\n",
    "           \n",
    "        print(fitness(best_solution))\n",
    "    print( f\"Solved in {counter:,} steps\")\n",
    "    print(\"final solution\", fitness(best_solution))\n",
    "    \n",
    "iterated_local_search()"
   ]
  },
  {
   "cell_type": "markdown",
   "id": "655ae52a",
   "metadata": {},
   "source": [
    "We tried a version of the iterated local search that pertubates the best solution, but it did not improve our solutions"
   ]
  },
  {
   "cell_type": "code",
   "execution_count": 123,
   "id": "681995d6",
   "metadata": {},
   "outputs": [],
   "source": [
    "def iterated_local_search_perturbated():\n",
    "    global counter\n",
    "    counter=0\n",
    "    current_state = [choice([False, False, False, False, False, False]) for _ in range(num_sets)]\n",
    "    best_solution = current_state\n",
    "    perturbation = current_state\n",
    "    \n",
    "    for i in range(5):\n",
    "        print(i)\n",
    "        current_solution = hill_climbing_ils(perturbation)\n",
    "    \n",
    "        if  fitness(current_solution) > fitness(best_solution):\n",
    "            best_solution = current_solution\n",
    "            random = np.random.random((num_sets,))<.1\n",
    "            concatenated= [best_solution,random]\n",
    "            perturbation =reduce(\n",
    "                            np.logical_or, \n",
    "                           concatenated, np.array([False for _ in range(num_sets)]))\n",
    "            print('random', random)\n",
    "            print('best_solution', best_solution)\n",
    "            print('perturbation', perturbation)\n",
    "            print('random', random)\n",
    "            print('len', len(random))\n",
    "        print(fitness(best_solution))\n",
    "    print(fitness(best_solution))\n",
    "\n",
    "#iterated_local_search_perturbated()\n",
    "    "
   ]
  },
  {
   "cell_type": "markdown",
   "id": "9ec204ac",
   "metadata": {},
   "source": [
    "TABU SEARCH"
   ]
  },
  {
   "cell_type": "code",
   "execution_count": 129,
   "id": "8ddb3fa0",
   "metadata": {},
   "outputs": [
    {
     "name": "stdout",
     "output_type": "stream",
     "text": [
      "Solved in 10,197 evaluations\n",
      "(100, -6)\n"
     ]
    }
   ],
   "source": [
    "def is_valid(sol, current_state):\n",
    "    return np.sum(sol)>0\n",
    "\n",
    "#solved with 100\n",
    "def tabu_search():\n",
    "    global counter\n",
    "    counter=0\n",
    "    tabu_list=[]\n",
    "    current_state = [choice([False, False, False, False, False, False]) for _ in range(num_sets)]\n",
    "    \n",
    "    for step in range(100):   \n",
    "    \n",
    "        tmp=(tweak(current_state) for _ in range(num_points))\n",
    "        candidates=[(sol,fitness(sol)) for sol in tmp if is_valid(sol,current_state) and sol not in tabu_list]\n",
    "        \n",
    "        if not candidates:\n",
    "            continue;\n",
    "        else:\n",
    "            max_sol= max(candidates, key=lambda x: x[1])\n",
    "\n",
    "            if(fitness(max_sol[0])>fitness(current_state)):\n",
    "                current_state=max_sol[0]\n",
    "            tabu_list.append(current_state)\n",
    "   \n",
    "    current_state=max(tabu_list, key=lambda x:fitness(x))\n",
    "    print( f\"Solved in {counter:,} evaluations\")\n",
    "    print(fitness(current_state))\n",
    "tabu_search()"
   ]
  },
  {
   "cell_type": "markdown",
   "id": "cc5b1516",
   "metadata": {},
   "source": [
    "SIMULATED ANNEALING"
   ]
  },
  {
   "cell_type": "code",
   "execution_count": 127,
   "id": "4c45bbbf",
   "metadata": {},
   "outputs": [
    {
     "name": "stdout",
     "output_type": "stream",
     "text": [
      "Solved in 70 steps\n",
      "finale state (100, -11)\n"
     ]
    }
   ],
   "source": [
    "#solved with 100\n",
    "def simulated_annealing():\n",
    "    global counter\n",
    "    counter=0\n",
    "    current_state = [choice([False, False, False, False, False, False]) for _ in range(num_sets)]\n",
    "   \n",
    "    t=num_points\n",
    "    ended=False\n",
    "    is_better=True\n",
    "    iteration=0\n",
    "    not_improving=0\n",
    "\n",
    "    while (not ended) or not_improving < 1:\n",
    "        iteration=iteration+1\n",
    "        new_state = new_tweak(current_state)\n",
    "\n",
    "        new_f=fitness(new_state)\n",
    "        \n",
    "        new_covered_points=new_f[0]\n",
    "\n",
    "        is_better=new_f>fitness(current_state)\n",
    "\n",
    "        if new_covered_points==100:\n",
    "            ended=True\n",
    "       \n",
    "        if not is_better:\n",
    "            not_improving=not_improving+1\n",
    "            sottrazione = tuple(y-x  for x, y in zip(fitness(current_state), fitness(new_state)))\n",
    "\n",
    "            minimum=-(abs(sottrazione[0])+abs(sottrazione[1]))\n",
    "            if t<=0:\n",
    "                p=0\n",
    "            else:    \n",
    "                esponente=minimum/t            \n",
    "                p=math.exp(esponente)\n",
    "                \n",
    "           \n",
    "        if is_better or random() < p:\n",
    "            if is_better:\n",
    "                not_improving=not_improving-1\n",
    "            current_state = new_state\n",
    "       \n",
    "        alpha=num_points-new_covered_points\n",
    "        t=t*0.5\n",
    "\n",
    "    print( f\"Solved in {counter:,} steps\")\n",
    "    print(\"finale state\", fitness(current_state))\n",
    "\n",
    "simulated_annealing()"
   ]
  }
 ],
 "metadata": {
  "kernelspec": {
   "display_name": "Python 3 (ipykernel)",
   "language": "python",
   "name": "python3"
  },
  "language_info": {
   "codemirror_mode": {
    "name": "ipython",
    "version": 3
   },
   "file_extension": ".py",
   "mimetype": "text/x-python",
   "name": "python",
   "nbconvert_exporter": "python",
   "pygments_lexer": "ipython3",
   "version": "3.12.0"
  }
 },
 "nbformat": 4,
 "nbformat_minor": 5
}
