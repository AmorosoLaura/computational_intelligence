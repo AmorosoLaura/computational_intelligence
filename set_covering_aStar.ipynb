{
 "cells": [
  {
   "cell_type": "code",
   "execution_count": 57,
   "metadata": {},
   "outputs": [],
   "source": [
    "from random import random\n",
    "from functools import reduce\n",
    "from collections import namedtuple\n",
    "from queue import PriorityQueue, SimpleQueue, LifoQueue\n",
    "\n",
    "import numpy as np"
   ]
  },
  {
   "cell_type": "code",
   "execution_count": 58,
   "metadata": {},
   "outputs": [],
   "source": [
    "PROBLEM_SIZE = 10\n",
    "NUM_SETS = 30\n",
    "SETS = tuple(\n",
    "    np.array([random() < 0.3 for _ in range(PROBLEM_SIZE)])\n",
    "    for _ in range(NUM_SETS)\n",
    ")\n",
    "State = namedtuple('State', ['taken', 'not_taken'])"
   ]
  },
  {
   "cell_type": "code",
   "execution_count": 59,
   "metadata": {},
   "outputs": [],
   "source": [
    "def goal_check(state):\n",
    "    return np.all(reduce(\n",
    "        np.logical_or,\n",
    "        [SETS[i] for i in state.taken],\n",
    "        np.array([False for _ in range(PROBLEM_SIZE)]),\n",
    "    ))\n",
    "\n",
    "def cost(state):\n",
    "    return len(state.taken)\n",
    "\n",
    "def distance(state, action):\n",
    "\n",
    "    taken_sets=list(state.taken)\n",
    "    #print(\"taken sets\", taken_sets)\n",
    "    #print(\"action\",action)\n",
    "    currently_covered=reduce(\n",
    "        np.logical_or,\n",
    "        [SETS[i] for i in taken_sets],\n",
    "        np.array([False for _ in range(PROBLEM_SIZE)]),\n",
    "    )\n",
    "    #print(\"currently_covered\",currently_covered)\n",
    " \n",
    "    if action:\n",
    "        newly_covered=SETS[action]\n",
    "        #print(\"newly_covered\", newly_covered)\n",
    "        difference=0\n",
    "        for i in range(len(newly_covered)):\n",
    "            if (newly_covered[i] == currently_covered[i] ):\n",
    "                difference+=1\n",
    "        #print(\"difference\",difference)\n",
    "        overlap=difference\n",
    "\n",
    "    else:\n",
    "        overlap=0\n",
    "    \n",
    "    new_state=[taken_sets,action]\n",
    "    distance=PROBLEM_SIZE - sum(\n",
    "        reduce(\n",
    "            np.logical_or,\n",
    "            [SETS[i] for i in range(len(new_state))],\n",
    "            np.array([False for _ in range(PROBLEM_SIZE)]),\n",
    "        ))\n",
    "    #print(\"overlap\",overlap)\n",
    "    #print(\"distance\",distance)\n",
    "    return 0.3*overlap+0.7*distance\n",
    "\n",
    "def f(state, action):\n",
    "    return distance(state,action)+cost(state)"
   ]
  },
  {
   "cell_type": "code",
   "execution_count": 60,
   "metadata": {},
   "outputs": [],
   "source": [
    "assert goal_check(\n",
    "    State(set(range(NUM_SETS)), set())\n",
    "), \"Probelm not solvable\""
   ]
  },
  {
   "cell_type": "code",
   "execution_count": 61,
   "metadata": {},
   "outputs": [
    {
     "name": "stdout",
     "output_type": "stream",
     "text": [
      "Solved in 34 steps (3 tiles)\n"
     ]
    }
   ],
   "source": [
    "frontier = PriorityQueue()\n",
    "state = State(set(), set(range(NUM_SETS)))\n",
    "frontier.put((f(state,None), state))\n",
    "\n",
    "counter = 0\n",
    "_, current_state = frontier.get()\n",
    "#print(\"initial current state\", current_state)\n",
    "while not goal_check(current_state):\n",
    "    counter += 1\n",
    "    for action in current_state[1]:\n",
    "        new_state = State(\n",
    "            current_state.taken ^ {action},\n",
    "            current_state.not_taken ^ {action},\n",
    "        )\n",
    "        frontier.put((f(current_state,action), new_state))\n",
    "        \n",
    "    _, current_state = frontier.get()\n",
    "    #print(\"current state\",current_state)\n",
    "\n",
    "print(\n",
    "    f\"Solved in {counter:,} steps ({len(current_state.taken)} tiles)\"\n",
    ")"
   ]
  },
  {
   "cell_type": "code",
   "execution_count": 62,
   "metadata": {},
   "outputs": [
    {
     "data": {
      "text/plain": [
       "State(taken={3, 21, 7}, not_taken={0, 1, 2, 4, 5, 6, 8, 9, 10, 11, 12, 13, 14, 15, 16, 17, 18, 19, 20, 22, 23, 24, 25, 26, 27, 28, 29})"
      ]
     },
     "execution_count": 62,
     "metadata": {},
     "output_type": "execute_result"
    }
   ],
   "source": [
    "current_state"
   ]
  },
  {
   "cell_type": "code",
   "execution_count": 63,
   "metadata": {},
   "outputs": [
    {
     "name": "stdout",
     "output_type": "stream",
     "text": [
      "0\n",
      "[False False False False False False False  True  True False]\n",
      "1\n",
      "[False False False False  True  True False False False  True]\n",
      "2\n",
      "[False  True  True False False False  True False  True False]\n",
      "3\n",
      "[False False False False False  True False  True False  True]\n",
      "4\n",
      "[False False False False  True False  True False False False]\n",
      "5\n",
      "[False False  True False False False False False False False]\n",
      "6\n",
      "[False False  True False False False False False False False]\n",
      "7\n",
      "[ True False False False False False  True False False False]\n",
      "8\n",
      "[False False  True False  True False  True False  True False]\n",
      "9\n",
      "[False  True  True False False False  True False False False]\n",
      "10\n",
      "[False False False  True  True  True False False False False]\n",
      "11\n",
      "[False False False False False  True False False  True False]\n",
      "12\n",
      "[ True False False False False  True False False False False]\n",
      "13\n",
      "[False False False False False False False  True False False]\n",
      "14\n",
      "[False False False False False  True  True  True  True False]\n",
      "15\n",
      "[ True  True False False False False False  True  True  True]\n",
      "16\n",
      "[ True False False False False False False False False False]\n",
      "17\n",
      "[False False False False  True False False  True False False]\n",
      "18\n",
      "[False False  True  True False  True  True False False False]\n",
      "19\n",
      "[False  True False False  True False False False False False]\n",
      "20\n",
      "[False False False  True  True False False False False False]\n",
      "21\n",
      "[False  True  True  True  True False False False  True False]\n",
      "22\n",
      "[False False False  True False False  True False False False]\n",
      "23\n",
      "[ True  True False False False  True False False False False]\n",
      "24\n",
      "[False  True False False False False False False False  True]\n",
      "25\n",
      "[ True False False False False False  True False  True False]\n",
      "26\n",
      "[False  True  True False False  True False False False False]\n",
      "27\n",
      "[False False  True False False False False  True False  True]\n",
      "28\n",
      "[False  True False False  True False False False False False]\n",
      "29\n",
      "[False  True False False False False  True  True False False]\n"
     ]
    }
   ],
   "source": [
    "for i in range(len(SETS)):\n",
    "    print(i)\n",
    "    print(SETS[i])"
   ]
  }
 ],
 "metadata": {
  "kernelspec": {
   "display_name": "venv",
   "language": "python",
   "name": "python3"
  },
  "language_info": {
   "codemirror_mode": {
    "name": "ipython",
    "version": 3
   },
   "file_extension": ".py",
   "mimetype": "text/x-python",
   "name": "python",
   "nbconvert_exporter": "python",
   "pygments_lexer": "ipython3",
   "version": "3.12.0"
  }
 },
 "nbformat": 4,
 "nbformat_minor": 2
}
