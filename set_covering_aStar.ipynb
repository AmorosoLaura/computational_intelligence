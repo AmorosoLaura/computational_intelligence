{
 "cells": [
  {
   "cell_type": "code",
   "execution_count": 260,
   "metadata": {},
   "outputs": [],
   "source": [
    "from random import random\n",
    "from functools import reduce\n",
    "from collections import namedtuple\n",
    "from queue import PriorityQueue, SimpleQueue, LifoQueue\n",
    "\n",
    "import numpy as np"
   ]
  },
  {
   "cell_type": "code",
   "execution_count": 261,
   "metadata": {},
   "outputs": [],
   "source": [
    "PROBLEM_SIZE = 5\n",
    "NUM_SETS = 6\n",
    "SETS = tuple(\n",
    "    np.array([random() < 0.3 for _ in range(PROBLEM_SIZE)])\n",
    "    for _ in range(NUM_SETS)\n",
    ")\n",
    "State = namedtuple('State', ['taken', 'not_taken'])"
   ]
  },
  {
   "cell_type": "code",
   "execution_count": 262,
   "metadata": {},
   "outputs": [],
   "source": [
    "def goal_check(state):\n",
    "    return np.all(reduce(\n",
    "        np.logical_or,\n",
    "        [SETS[i] for i in state.taken],\n",
    "        np.array([False for _ in range(PROBLEM_SIZE)]),\n",
    "    ))\n",
    "\n",
    "def cost(state):\n",
    "\n",
    "    return len(state.taken)\n",
    "\n",
    "def distance(state):\n",
    "\n",
    "    return PROBLEM_SIZE - sum(\n",
    "        reduce(\n",
    "            np.logical_or,\n",
    "            [SETS[i] for i in state.taken],\n",
    "            np.array([False for _ in range(PROBLEM_SIZE)]),\n",
    "        ))\n",
    "\n",
    "def f(state):\n",
    "    distance(state)+cost(state)"
   ]
  },
  {
   "cell_type": "code",
   "execution_count": 263,
   "metadata": {},
   "outputs": [
    {
     "ename": "AssertionError",
     "evalue": "Probelm not solvable",
     "output_type": "error",
     "traceback": [
      "\u001b[1;31m---------------------------------------------------------------------------\u001b[0m",
      "\u001b[1;31mAssertionError\u001b[0m                            Traceback (most recent call last)",
      "\u001b[1;32mc:\\Users\\Laura\\Desktop\\Università\\Polito\\Computational_Intelligence\\set_covering\\set_covering_aStar.ipynb Cell 4\u001b[0m line \u001b[0;36m1\n\u001b[1;32m----> <a href='vscode-notebook-cell:/c%3A/Users/Laura/Desktop/Universit%C3%A0/Polito/Computational_Intelligence/set_covering/set_covering_aStar.ipynb#W4sZmlsZQ%3D%3D?line=0'>1</a>\u001b[0m \u001b[39massert\u001b[39;00m goal_check(\n\u001b[0;32m      <a href='vscode-notebook-cell:/c%3A/Users/Laura/Desktop/Universit%C3%A0/Polito/Computational_Intelligence/set_covering/set_covering_aStar.ipynb#W4sZmlsZQ%3D%3D?line=1'>2</a>\u001b[0m     State(\u001b[39mset\u001b[39m(\u001b[39mrange\u001b[39m(NUM_SETS)), \u001b[39mset\u001b[39m())\n\u001b[0;32m      <a href='vscode-notebook-cell:/c%3A/Users/Laura/Desktop/Universit%C3%A0/Polito/Computational_Intelligence/set_covering/set_covering_aStar.ipynb#W4sZmlsZQ%3D%3D?line=2'>3</a>\u001b[0m ), \u001b[39m\"\u001b[39m\u001b[39mProbelm not solvable\u001b[39m\u001b[39m\"\u001b[39m\n",
      "\u001b[1;31mAssertionError\u001b[0m: Probelm not solvable"
     ]
    }
   ],
   "source": [
    "assert goal_check(\n",
    "    State(set(range(NUM_SETS)), set())\n",
    "), \"Probelm not solvable\""
   ]
  },
  {
   "cell_type": "code",
   "execution_count": null,
   "metadata": {},
   "outputs": [
    {
     "name": "stdout",
     "output_type": "stream",
     "text": [
      "current state State(taken={0}, not_taken={1, 2, 3, 4, 5})\n",
      "current state State(taken={2}, not_taken={0, 1, 3, 4, 5})\n",
      "current state State(taken={5}, not_taken={0, 1, 2, 3, 4})\n",
      "current state State(taken={0, 2}, not_taken={1, 3, 4, 5})\n",
      "current state State(taken={0, 5}, not_taken={1, 2, 3, 4})\n",
      "current state State(taken={2, 5}, not_taken={0, 1, 3, 4})\n",
      "current state State(taken={1}, not_taken={0, 2, 3, 4, 5})\n",
      "current state State(taken={1, 5}, not_taken={0, 2, 3, 4})\n",
      "current state State(taken={4}, not_taken={0, 1, 2, 3, 5})\n",
      "current state State(taken={4, 5}, not_taken={0, 1, 2, 3})\n",
      "Solved in 10 steps (2 tiles)\n"
     ]
    }
   ],
   "source": [
    "frontier = PriorityQueue()\n",
    "state = State(set(), set(range(NUM_SETS)))\n",
    "frontier.put((f(state), state))\n",
    "\n",
    "counter = 0\n",
    "_, current_state = frontier.get()\n",
    "while not goal_check(current_state):\n",
    "    counter += 1\n",
    "    for action in current_state[1]:\n",
    "        new_state = State(\n",
    "            current_state.taken ^ {action},\n",
    "            current_state.not_taken ^ {action},\n",
    "        )\n",
    "        frontier.put((f(new_state), new_state))\n",
    "    _, current_state = frontier.get()\n",
    "    print(\"current state\",current_state)\n",
    "\n",
    "print(\n",
    "    f\"Solved in {counter:,} steps ({len(current_state.taken)} tiles)\"\n",
    ")"
   ]
  },
  {
   "cell_type": "code",
   "execution_count": null,
   "metadata": {},
   "outputs": [
    {
     "data": {
      "text/plain": [
       "State(taken={4, 5}, not_taken={0, 1, 2, 3})"
      ]
     },
     "execution_count": 254,
     "metadata": {},
     "output_type": "execute_result"
    }
   ],
   "source": [
    "current_state"
   ]
  },
  {
   "cell_type": "code",
   "execution_count": null,
   "metadata": {},
   "outputs": [
    {
     "name": "stdout",
     "output_type": "stream",
     "text": [
      "0\n",
      "[False False False False False]\n",
      "1\n",
      "[ True False False False False]\n",
      "2\n",
      "[False  True False False False]\n",
      "3\n",
      "[False False  True  True False]\n",
      "4\n",
      "[ True  True  True  True False]\n",
      "5\n",
      "[False False False False  True]\n"
     ]
    }
   ],
   "source": [
    "for i in range(len(SETS)):\n",
    "    print(i)\n",
    "    print(SETS[i])"
   ]
  }
 ],
 "metadata": {
  "kernelspec": {
   "display_name": "venv",
   "language": "python",
   "name": "python3"
  },
  "language_info": {
   "codemirror_mode": {
    "name": "ipython",
    "version": 3
   },
   "file_extension": ".py",
   "mimetype": "text/x-python",
   "name": "python",
   "nbconvert_exporter": "python",
   "pygments_lexer": "ipython3",
   "version": "3.12.0"
  }
 },
 "nbformat": 4,
 "nbformat_minor": 2
}
