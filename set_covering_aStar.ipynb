{
 "cells": [
  {
   "cell_type": "markdown",
   "metadata": {},
   "source": [
    "Copyright(c) Laura Amoroso and Arturo Adelfio\n",
    "\n",
    "This is the code of the first Laboratory that I solved with my colleague Arturo Adelfio"
   ]
  },
  {
   "cell_type": "code",
   "execution_count": 999,
   "metadata": {},
   "outputs": [],
   "source": [
    "from random import random\n",
    "from functools import reduce\n",
    "from collections import namedtuple\n",
    "from queue import PriorityQueue, SimpleQueue, LifoQueue\n",
    "from math import ceil\n",
    "\n",
    "import numpy as np"
   ]
  },
  {
   "cell_type": "markdown",
   "metadata": {},
   "source": []
  },
  {
   "cell_type": "code",
   "execution_count": 1000,
   "metadata": {},
   "outputs": [],
   "source": [
    "PROBLEM_SIZE = 20\n",
    "NUM_SETS = 30\n",
    "SETS = tuple(\n",
    "    np.array([random() < 0.3 for _ in range(PROBLEM_SIZE)])\n",
    "    for _ in range(NUM_SETS)\n",
    ")\n",
    "State = namedtuple('State', ['taken', 'not_taken'])"
   ]
  },
  {
   "cell_type": "markdown",
   "metadata": {},
   "source": [
    "At first I tried this function for the distance in which I used the number of rermained uncovered elements as a distance to the goal, but then I realized that this was wrong beacues it was pessimistic. I also report a first attempt of calculating the overlapping, that wasn't correct"
   ]
  },
  {
   "cell_type": "markdown",
   "metadata": {},
   "source": []
  },
  {
   "cell_type": "code",
   "execution_count": 1001,
   "metadata": {},
   "outputs": [],
   "source": [
    "def distance(state, action):\n",
    "\n",
    "    taken_sets=list(state.taken)\n",
    "    print(\"taken sets\", taken_sets)\n",
    "    #print(\"action\",action)\n",
    "    currently_covered=reduce(\n",
    "        np.logical_or,\n",
    "        [SETS[i] for i in taken_sets],\n",
    "        np.array([False for _ in range(PROBLEM_SIZE)]),\n",
    "    )\n",
    "    #print(\"currently_covered\",currently_covered)\n",
    " \n",
    "    if action:\n",
    "        newly_covered=SETS[action]\n",
    "        #print(\"newly_covered\", newly_covered)\n",
    "        difference=0\n",
    "        for i in range(len(newly_covered)):\n",
    "            if (newly_covered[i] == currently_covered[i] ):\n",
    "                difference+=1\n",
    "        #print(\"difference\",difference)\n",
    "        overlap=difference\n",
    "        taken_sets.append(action)\n",
    "        \n",
    "\n",
    "    else:\n",
    "        overlap=0\n",
    "        \n",
    "    distance=PROBLEM_SIZE - sum(\n",
    "            reduce(\n",
    "                np.logical_or,\n",
    "                [SETS[i] for i in taken_sets],\n",
    "                np.array([False for _ in range(PROBLEM_SIZE)]),\n",
    "            ))\n",
    "    #print(\"overlap\",overlap)\n",
    "    print(\"distance\",distance)\n",
    "    return overlap*distance\n"
   ]
  },
  {
   "cell_type": "markdown",
   "metadata": {},
   "source": [
    "Then I started from trying the solution given by the professor to see what happens. I report it here to make a comparison with its improved version made by us"
   ]
  },
  {
   "cell_type": "code",
   "execution_count": 1026,
   "metadata": {},
   "outputs": [],
   "source": [
    "\n",
    "def old_h(state):\n",
    "    \n",
    "    already_covered = reduce(\n",
    "        np.logical_or,\n",
    "        [SETS[i] for i in state.taken],\n",
    "        np.array([False for _ in range(PROBLEM_SIZE)]),\n",
    "    )\n",
    "   \n",
    "    if np.all(already_covered):\n",
    "        return 0\n",
    "    largest_set_size = max(sum(np.logical_and(s, np.logical_not(already_covered))) for s in SETS)\n",
    "    missing_size = PROBLEM_SIZE - sum(already_covered)\n",
    "    optimistic_estimate = ceil(missing_size / largest_set_size)\n",
    "    #print(\"distance\", optimistic_estimate, state.taken)\n",
    "    return optimistic_estimate\n",
    "\n",
    "def old_f(state):\n",
    "    return old_h(state)+cost(state)\n",
    "    "
   ]
  },
  {
   "cell_type": "markdown",
   "metadata": {},
   "source": [
    "The idea to improve the metric is that, given the same distance, the search continues on the node that expects the lowest overlapping in the future nodes. To compute the overlapping I used the \"not\" operation of the xor between the current and the future sets, to obtain the number of times there was an overlapping (True-True or False-False). Then I computed the maximum, so the priority queue will choose the one with the lowest overlapping. "
   ]
  },
  {
   "cell_type": "code",
   "execution_count": 1027,
   "metadata": {},
   "outputs": [],
   "source": [
    "def goal_check(state):\n",
    "    return np.all(reduce(\n",
    "        np.logical_or,\n",
    "        [SETS[i] for i in state.taken],\n",
    "        np.array([False for _ in range(PROBLEM_SIZE)]),\n",
    "    ))\n",
    "\n",
    "def cost(state):\n",
    "    return len(state.taken)\n",
    "\n",
    "\n",
    "def h(state):\n",
    "    \n",
    "    already_covered = reduce(\n",
    "        np.logical_or,\n",
    "        [SETS[i] for i in state.taken],\n",
    "        np.array([False for _ in range(PROBLEM_SIZE)]),\n",
    "    )\n",
    "   \n",
    "    if np.all(already_covered):\n",
    "        return 0\n",
    "    largest_set_size = max(sum(np.logical_and(s, np.logical_not(already_covered))) for s in SETS)\n",
    "    missing_size = PROBLEM_SIZE - sum(already_covered)\n",
    "    optimistic_estimate = ceil(missing_size / largest_set_size)\n",
    "\n",
    "    new_metric=max(sum(np.logical_not(np.logical_xor(SETS[s], already_covered))) for s in state.not_taken)\n",
    "    #print(\"new distance\", optimistic_estimate*0.9+0.1*new_metric, state.taken)\n",
    "    return optimistic_estimate*0.9+0.1*new_metric\n",
    "    \n",
    "def f(state):\n",
    "    return h(state)+cost(state)\n"
   ]
  },
  {
   "cell_type": "code",
   "execution_count": 1004,
   "metadata": {},
   "outputs": [],
   "source": [
    "assert goal_check(\n",
    "    State(set(range(NUM_SETS)), set())\n",
    "), \"Problem not solvable\""
   ]
  },
  {
   "cell_type": "code",
   "execution_count": 1030,
   "metadata": {},
   "outputs": [],
   "source": [
    "def old_astar():\n",
    "    frontier = PriorityQueue()\n",
    "    state = State(set(), set(range(NUM_SETS)))\n",
    "    frontier.put((f(state), state))\n",
    "\n",
    "    counter = 0\n",
    "    _, current_state = frontier.get()\n",
    "    #print(\"initial current state\", current_state)\n",
    "    while not goal_check(current_state):\n",
    "        counter += 1\n",
    "        for action in current_state[1]:\n",
    "            new_state = State(\n",
    "                current_state.taken ^ {action},\n",
    "                current_state.not_taken ^ {action},\n",
    "            )\n",
    "            #print(\"new state\", new_state)\n",
    "            frontier.put((old_f(new_state), new_state))\n",
    "    \n",
    "        _, current_state = frontier.get()\n",
    "        #print(\"current state\",current_state)\n",
    "    print(\"Old solution\", current_state.taken)\n",
    "    print(\n",
    "        f\"Solved in {counter:,} steps ({len(current_state.taken)} tiles)\"\n",
    "    )\n",
    "def new_astar():\n",
    "    frontier = PriorityQueue()\n",
    "    state = State(set(), set(range(NUM_SETS)))\n",
    "    frontier.put((f(state), state))\n",
    "\n",
    "    counter = 0\n",
    "    _, current_state = frontier.get()\n",
    "    #print(\"initial current state\", current_state)\n",
    "    while not goal_check(current_state):\n",
    "        counter += 1\n",
    "        for action in current_state[1]:\n",
    "            new_state = State(\n",
    "                current_state.taken ^ {action},\n",
    "                current_state.not_taken ^ {action},\n",
    "            )\n",
    "            #print(\"new state\", new_state)\n",
    "            frontier.put((f(new_state), new_state))\n",
    "    \n",
    "        _, current_state = frontier.get()\n",
    "        #print(\"current state\",current_state)\n",
    "    print(\"New solution\", current_state.taken)\n",
    "    print(\n",
    "        f\"Solved in {counter:,} steps ({len(current_state.taken)} tiles)\"\n",
    "    )\n"
   ]
  },
  {
   "cell_type": "code",
   "execution_count": 1031,
   "metadata": {},
   "outputs": [
    {
     "name": "stdout",
     "output_type": "stream",
     "text": [
      "Old solution {11, 14, 7}\n",
      "Solved in 11 steps (3 tiles)\n",
      "New solution {11, 14, 7}\n",
      "Solved in 3 steps (3 tiles)\n"
     ]
    }
   ],
   "source": [
    "old_astar()\n",
    "new_astar()"
   ]
  },
  {
   "cell_type": "code",
   "execution_count": 1015,
   "metadata": {},
   "outputs": [
    {
     "name": "stdout",
     "output_type": "stream",
     "text": [
      "0\n",
      "[False  True False  True  True False False False False False False False\n",
      "  True False False False False  True False False]\n",
      "1\n",
      "[False False False False  True  True False False False  True  True False\n",
      "  True False False  True  True False False False]\n",
      "2\n",
      "[ True  True  True False False False  True  True False  True False False\n",
      " False False False False False  True False False]\n",
      "3\n",
      "[False  True False False  True False False False  True False False False\n",
      " False False  True False False  True False False]\n",
      "4\n",
      "[False False False False  True False False False  True False False  True\n",
      " False  True False False False False False False]\n",
      "5\n",
      "[ True False False  True False False False False False  True  True False\n",
      " False  True False False False  True  True False]\n",
      "6\n",
      "[False False False  True False  True False False  True False False False\n",
      "  True False False False False False False False]\n",
      "7\n",
      "[False False False False False  True False  True False False False  True\n",
      " False False False False  True  True False  True]\n",
      "8\n",
      "[False  True False  True False False False False False False False False\n",
      " False  True  True False False  True False  True]\n",
      "9\n",
      "[False False False False  True False False False False False  True False\n",
      " False False False False False False False False]\n",
      "10\n",
      "[False False  True  True False False  True False False False False False\n",
      "  True False False False False  True False False]\n",
      "11\n",
      "[False False False  True False False False  True False False  True False\n",
      "  True  True  True  True False  True False False]\n",
      "12\n",
      "[False False False  True False False False  True False  True  True False\n",
      " False False False False  True False False False]\n",
      "13\n",
      "[ True False  True  True  True False False  True False False False False\n",
      "  True False False  True False False False False]\n",
      "14\n",
      "[ True  True  True False  True False  True False  True  True False False\n",
      "  True False False False  True  True  True False]\n",
      "15\n",
      "[ True False False False False False False False False False False  True\n",
      "  True False  True False False  True  True False]\n",
      "16\n",
      "[ True False  True False False False  True False  True False False  True\n",
      " False False False False  True  True False False]\n",
      "17\n",
      "[ True False False  True False False  True False False  True  True  True\n",
      " False  True False False False False False False]\n",
      "18\n",
      "[False False False False False  True False False False False  True  True\n",
      " False  True  True  True  True  True False False]\n",
      "19\n",
      "[ True False False False False  True False False False False  True False\n",
      "  True False  True False  True False False  True]\n",
      "20\n",
      "[False False  True  True False  True False False False False False  True\n",
      " False False  True False False  True  True False]\n",
      "21\n",
      "[False False False False False False False False  True  True  True False\n",
      " False  True False False False  True False  True]\n",
      "22\n",
      "[False False False False False False  True False False  True  True  True\n",
      " False  True False False False False False False]\n",
      "23\n",
      "[False  True  True False False  True False False False False False False\n",
      " False False False False  True False False  True]\n",
      "24\n",
      "[False False  True False False False False False False  True False False\n",
      " False False False False False False False False]\n",
      "25\n",
      "[ True False  True False  True False False  True  True False False  True\n",
      " False False  True False  True False  True False]\n",
      "26\n",
      "[ True False False False False False False  True  True  True False False\n",
      " False False False False False False  True  True]\n",
      "27\n",
      "[ True False False False False False False False False False False False\n",
      " False False False False False  True False False]\n",
      "28\n",
      "[ True False False  True False  True  True False  True False  True False\n",
      " False False False False False False False False]\n",
      "29\n",
      "[False  True  True False False False False False  True False False False\n",
      " False False False False False False False  True]\n"
     ]
    }
   ],
   "source": [
    "for i in range(len(SETS)):\n",
    "    print(i)\n",
    "    print(SETS[i])"
   ]
  }
 ],
 "metadata": {
  "kernelspec": {
   "display_name": "venv",
   "language": "python",
   "name": "python3"
  },
  "language_info": {
   "codemirror_mode": {
    "name": "ipython",
    "version": 3
   },
   "file_extension": ".py",
   "mimetype": "text/x-python",
   "name": "python",
   "nbconvert_exporter": "python",
   "pygments_lexer": "ipython3",
   "version": "3.12.0"
  }
 },
 "nbformat": 4,
 "nbformat_minor": 2
}
